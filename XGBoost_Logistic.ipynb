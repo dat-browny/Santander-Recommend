{
 "cells": [
  {
   "cell_type": "code",
   "execution_count": 1,
   "id": "fef69bb1-7b02-4adf-b16e-94d8d4a1e638",
   "metadata": {},
   "outputs": [],
   "source": [
    "!pip install numpy scikit-learn pandas kaggle"
   ]
  },
  {
   "cell_type": "code",
   "execution_count": null,
   "id": "913d97bc",
   "metadata": {},
   "outputs": [],
   "source": [
    "import os\n",
    "import json\n",
    "import pandas as pd\n",
    "from tqdm import tqdm\n",
    "import numpy as np"
   ]
  },
  {
   "cell_type": "code",
   "execution_count": 2,
   "id": "dc1dfc6a-0600-4579-8c6b-d982a39cd032",
   "metadata": {},
   "outputs": [
    {
     "name": "stderr",
     "output_type": "stream",
     "text": [
      "/tmp/ipykernel_314619/1621394854.py:1: DtypeWarning: Columns (5,8,11,15) have mixed types. Specify dtype option on import or set low_memory=False.\n",
      "  df = pd.read_csv('train_ver2.csv')\n"
     ]
    }
   ],
   "source": [
    "df = pd.read_csv('train_ver2.csv')"
   ]
  },
  {
   "cell_type": "code",
   "execution_count": 3,
   "id": "726823b1-3e66-4a0b-92f4-9ee290fed301",
   "metadata": {},
   "outputs": [],
   "source": [
    "# Loại bỏ những feature không cần thiết + lọc dữ liệu user của tháng 6/2015\n",
    "def preprocess(df):\n",
    "    df = df[df['fecha_dato'] == '2015-06-28']\n",
    "    df = df.drop(columns=['fecha_dato', 'fecha_alta', 'ult_fec_cli_1t', 'tipodom', 'cod_prov'])\n",
    "    \n",
    "    # Convert the columns to numeric\n",
    "    df[df.columns[-24:]] = df[df.columns[-24:]].apply(pd.to_numeric, errors='coerce')\n",
    "    \n",
    "    # Filter rows where the sum of the last 18 columns is greater than 0\n",
    "    new_df = df.loc[df.iloc[:, -24:].sum(axis=1) > 0]\n",
    "    \n",
    "    return new_df\n",
    "\n",
    "# Kết hợp dữ liệu user tháng 6/2015 và dữ liệu mua của tháng 5/2015\n",
    "def lag_1_product(df):\n",
    "    new_df = preprocess(df)\n",
    "    user_ids = new_df['ncodpers'].unique()\n",
    "    may_user_values = df[(df['ncodpers'].isin(user_ids)) & (df['fecha_dato'] == '2015-05-28')]\n",
    "\n",
    "    shifted_1_value_product_per_user = []\n",
    "    for user_id in tqdm(user_ids):\n",
    "        user_values = may_user_values[may_user_values['ncodpers'] == user_id]\n",
    "        last_24_values = user_values.iloc[:, -24:].values.flatten().tolist()\n",
    "        shifted_1_value_product_per_user.append(last_24_values)\n",
    "    new_df['shifted_1'] = shifted_1_value_product_per_user\n",
    "    return new_df\n",
    "\n",
    "train_df = lag_1_product(df)\n",
    "train_df = train_df[train_df['shifted_1'].apply(len) == 24]"
   ]
  },
  {
   "cell_type": "code",
   "execution_count": 6,
   "id": "4f4bb6a6-0a8b-4a68-b64d-ea094d9e1a77",
   "metadata": {},
   "outputs": [
    {
     "name": "stderr",
     "output_type": "stream",
     "text": [
      "/tmp/ipykernel_314619/608064879.py:2: FutureWarning: DataFrame.fillna with 'method' is deprecated and will raise in a future version. Use obj.ffill() or obj.bfill() instead.\n",
      "  df.fillna(method='ffill', inplace=True)\n"
     ]
    }
   ],
   "source": [
    "# Chuẩn hóa dữ liệu cho từng feature\n",
    "def assert_dtype(df, dtype='test'):\n",
    "    df.fillna(method='ffill', inplace=True)\n",
    "    df = df[df['age']!=' NA']\n",
    "    df['antiguedad'] = df['antiguedad'].apply(lambda x: pd.to_numeric(str(x).replace('[^\\d.-]', ''), errors='coerce'))\n",
    "\n",
    "    if dtype=='test':\n",
    "        df = df.astype(dtype={'ind_actividad_cliente':\"float\", 'age': 'int',\"indrel\":\"float\", \"ind_nuevo\":\"float\" })\n",
    "        return df\n",
    "                                                                            \n",
    "    df = df.astype(dtype={\"ind_ahor_fin_ult1\":\"int8\",'ind_aval_fin_ult1':\"int8\", 'ind_cco_fin_ult1':\"int8\", \n",
    "                                                                      'ind_cder_fin_ult1':\"int8\", 'ind_cno_fin_ult1':\"int8\", 'ind_ctju_fin_ult1':\"int8\", 'ind_ctma_fin_ult1':\"int8\", \n",
    "                                                                      'ind_ctop_fin_ult1':\"int8\", 'ind_ctpp_fin_ult1':\"int8\",\n",
    "                                                                      'ind_nomina_ult1':\"int8\", 'ind_nom_pens_ult1':\"int8\",\n",
    "                                                                      'ind_actividad_cliente':\"float\", 'age': 'int',\n",
    "                                                                      \"indrel\":\"float\", \"ind_nuevo\":\"float\",\n",
    "                                                                      'ind_deco_fin_ult1':\"int8\", 'ind_deme_fin_ult1':\"int8\", 'ind_dela_fin_ult1':\"int8\",\n",
    "                                                                      'ind_ecue_fin_ult1':\"int8\", 'ind_fond_fin_ult1':\"int8\", 'ind_hip_fin_ult1':\"int8\",\n",
    "                                                                      'ind_plan_fin_ult1':\"int8\", 'ind_pres_fin_ult1':\"int8\", 'ind_reca_fin_ult1':\"int8\", 'ind_tjcr_fin_ult1':\"int8\", \n",
    "                                                                      'ind_valo_fin_ult1':\"int8\", 'ind_viv_fin_ult1':\"int8\", 'ind_recibo_ult1':\"int8\"})\n",
    "    return df\n",
    "\n",
    "train_df = assert_dtype(train_df, dtype='train')"
   ]
  },
  {
   "cell_type": "code",
   "execution_count": 8,
   "id": "ba62770b-4788-49b3-b1bb-9c09656f14ca",
   "metadata": {},
   "outputs": [],
   "source": [
    "categorical_col = ['ind_empleado', 'pais_residencia', 'sexo', 'ind_nuevo', 'tiprel_1mes', 'indresi', 'indext', 'conyuemp', 'canal_entrada', 'indfall', 'nomprov', 'ind_actividad_cliente', 'segmento']\n",
    "interval_col = ['antiguedad', 'age', 'renta']\n",
    "#Label col == các feature sẽ mua ở tháng 6\n",
    "label_col = train_df.columns[-25:-1]"
   ]
  },
  {
   "cell_type": "code",
   "execution_count": 9,
   "id": "ea81b370-1809-40d4-addd-fdd050b39ccc",
   "metadata": {},
   "outputs": [],
   "source": [
    "# Tạo các dict transform các feature\n",
    "list_encoded = {}\n",
    "for col in categorical_col:\n",
    "    mapping_value = {}\n",
    "    categorical = list(df[col].unique())\n",
    "    for id, cate in enumerate(categorical):\n",
    "        mapping_value[cate] = id\n",
    "    list_encoded[col] = mapping_value"
   ]
  },
  {
   "cell_type": "code",
   "execution_count": 10,
   "id": "89cfded4-5ca0-4958-a1c5-a2ed62db9880",
   "metadata": {},
   "outputs": [
    {
     "name": "stderr",
     "output_type": "stream",
     "text": [
      "100%|██████████| 13/13 [00:03<00:00,  3.95it/s]\n"
     ]
    }
   ],
   "source": [
    "#Các function transform/encode các feature\n",
    "def transform_age(age):\n",
    "    if isinstance(age, str):\n",
    "        return 0\n",
    "    if age < 20:\n",
    "        return 0\n",
    "    elif age < 30:\n",
    "        return 1\n",
    "    elif age < 40:\n",
    "        return 2\n",
    "    elif age < 50:\n",
    "        return 3\n",
    "    elif age < 60:\n",
    "        return 4\n",
    "    else:\n",
    "        return 5\n",
    "\n",
    "\n",
    "def transform_categorical(dict_, x):\n",
    "    if x not in dict_.keys():\n",
    "        return -1\n",
    "    return dict_[x]\n",
    "\n",
    "def transform_membership(month):\n",
    "    if isinstance(month, str):\n",
    "        return 0\n",
    "    if month < 24:\n",
    "        return 0\n",
    "    elif month < 60:\n",
    "        return 1\n",
    "    elif month < 120:\n",
    "        return 2\n",
    "    else: \n",
    "        return 3\n",
    "\n",
    "def transform_income(income):\n",
    "    if isinstance(income, str):\n",
    "        return 0\n",
    "    if income < 5e4:\n",
    "        return 0\n",
    "    elif income < 1e5:\n",
    "        return 1\n",
    "    elif income < 5e5:\n",
    "        return 2\n",
    "    else:\n",
    "        return 3\n",
    "\n",
    "def transform_value(df):\n",
    "    for col in tqdm(categorical_col):\n",
    "        df[col] = df[col].apply(lambda x: transform_categorical(list_encoded[col], x))\n",
    "    df['age'] = df['age'].apply(lambda x: transform_age(x))\n",
    "    df['antiguedad'] = df['antiguedad'].apply(lambda x: transform_membership(x))\n",
    "    df['renta'] = df['renta'].apply(lambda x: transform_income(x)) \n",
    "    return df\n",
    "\n",
    "train = transform_value(train_df)"
   ]
  },
  {
   "cell_type": "code",
   "execution_count": 11,
   "id": "09c5b691-e01f-4e67-8644-1da2943e7f00",
   "metadata": {},
   "outputs": [
    {
     "name": "stderr",
     "output_type": "stream",
     "text": [
      "/tmp/ipykernel_314619/2933419564.py:1: DtypeWarning: Columns (15) have mixed types. Specify dtype option on import or set low_memory=False.\n",
      "  test = pd.read_csv('test_ver2.csv')\n",
      "100%|██████████| 929615/929615 [11:56<00:00, 1296.84it/s]\n"
     ]
    }
   ],
   "source": [
    "# Phần xử lý dữ liệu tập test tương tự như tập Train\n",
    "test = pd.read_csv('test_ver2.csv')\n",
    "\n",
    "def preprocess(df):\n",
    "    df = df.drop(columns=['fecha_dato', 'fecha_alta', 'ult_fec_cli_1t', 'tipodom', 'cod_prov'])\n",
    "    return df\n",
    "\n",
    "def lag_1_product(df, train_df):\n",
    "    new_df = preprocess(df)\n",
    "    user_ids = new_df['ncodpers'].unique()\n",
    "    may_user_values = train_df[(train_df['ncodpers'].isin(user_ids)) & (train_df['fecha_dato'] == '2016-05-28')]\n",
    "\n",
    "    shifted_1_value_product_per_user = []\n",
    "    for user_id in tqdm(user_ids):\n",
    "        user_values = may_user_values[may_user_values['ncodpers'] == user_id]\n",
    "        last_24_values = user_values.iloc[:, -24:].values.flatten().tolist()\n",
    "        shifted_1_value_product_per_user.append(last_24_values)\n",
    "    new_df['shifted_1'] = shifted_1_value_product_per_user\n",
    "    return new_df\n",
    "\n",
    "test_lag_1 = lag_1_product(test, df)"
   ]
  },
  {
   "cell_type": "code",
   "execution_count": 12,
   "id": "050a8768-bbac-42ab-bf6b-db0adcce1e96",
   "metadata": {},
   "outputs": [],
   "source": [
    "# Concat các feature lại với nhau, mỗi sample training = 16 feature user information + 24 pass value purchase\n",
    "def generate_dataset(df):\n",
    "    X_1 = df[categorical_col].values\n",
    "    X_2 = df[interval_col].values\n",
    "    X_3 = np.array(df['shifted_1'].tolist())\n",
    "    X = np.concatenate((X_1, X_2, X_3), axis=-1)\n",
    "    if label_col[0] not in df.columns:\n",
    "        return X\n",
    "    y = df[label_col].values    \n",
    "    assert X.shape[0] == y.shape[0]\n",
    "    return X, y"
   ]
  },
  {
   "attachments": {},
   "cell_type": "markdown",
   "id": "d96d2f88",
   "metadata": {},
   "source": [
    "Vì ta sẽ đưa dữ liệu vào một model dạng phân loại, mỗi feature training X sẽ dự đoán 1 sản phẩm tiếp theo, tuy nhiên theo dữ liệu ta có mỗi tháng 1 user có thể mua nhiều hơn 1 sản phẩm. Giả sử, 1 tháng A mua n sản phẩm => tách y thành n sample training, mỗi sample chỉ chứa 1 sản phẩm."
   ]
  },
  {
   "cell_type": "code",
   "execution_count": 13,
   "id": "1ddb8c84-74b2-4660-9e71-cb83fb2c7416",
   "metadata": {},
   "outputs": [],
   "source": [
    "def remap_data(X, y):\n",
    "    new_x, new_y = [], []\n",
    "    x = X.tolist()\n",
    "    for id, sample in tqdm(enumerate(y)):\n",
    "        if sum(sample) > 0:\n",
    "            indices = np.where(np.array(sample) == 1)[0]\n",
    "            for idx in indices:\n",
    "                new_x.append(X[id])\n",
    "                new_y.append([int(idx)])\n",
    "    assert len(new_x) == len(new_y)\n",
    "    return np.array(new_x), np.array(new_y)"
   ]
  },
  {
   "cell_type": "code",
   "execution_count": 18,
   "id": "94b3527e-0303-4149-a509-de4956bf6760",
   "metadata": {},
   "outputs": [
    {
     "name": "stderr",
     "output_type": "stream",
     "text": [
      "610875it [00:09, 64053.49it/s]\n",
      "100%|██████████| 13/13 [00:04<00:00,  2.67it/s]\n"
     ]
    },
    {
     "data": {
      "text/plain": [
       "array([ 4.,  0.,  1.,  0.,  0.,  0.,  0.,  1.,  5.,  0., 18.,  0.,  3.,\n",
       "        3.,  4.,  0.,  0.,  0.,  1.,  0.,  0.,  0.,  0.,  0.,  1.,  0.,\n",
       "        0.,  0.,  0.,  0.,  0.,  0.,  0.,  0.,  1.,  1.,  0.,  0.,  0.,\n",
       "        0.])"
      ]
     },
     "execution_count": 18,
     "metadata": {},
     "output_type": "execute_result"
    }
   ],
   "source": [
    "X, y = generate_dataset(train)\n",
    "X, y = remap_data(X, y)\n",
    "X_filled = np.nan_to_num(X, nan=-1) #Fill nan value\n",
    "X_test = generate_dataset(transform_value(test_lag_1))\n",
    "X_test[0]"
   ]
  },
  {
   "cell_type": "code",
   "execution_count": 28,
   "id": "8db9ee91-a7c9-4850-b1f8-5f5b3e6499dc",
   "metadata": {},
   "outputs": [
    {
     "data": {
      "text/html": [
       "<style>#sk-container-id-2 {color: black;}#sk-container-id-2 pre{padding: 0;}#sk-container-id-2 div.sk-toggleable {background-color: white;}#sk-container-id-2 label.sk-toggleable__label {cursor: pointer;display: block;width: 100%;margin-bottom: 0;padding: 0.3em;box-sizing: border-box;text-align: center;}#sk-container-id-2 label.sk-toggleable__label-arrow:before {content: \"▸\";float: left;margin-right: 0.25em;color: #696969;}#sk-container-id-2 label.sk-toggleable__label-arrow:hover:before {color: black;}#sk-container-id-2 div.sk-estimator:hover label.sk-toggleable__label-arrow:before {color: black;}#sk-container-id-2 div.sk-toggleable__content {max-height: 0;max-width: 0;overflow: hidden;text-align: left;background-color: #f0f8ff;}#sk-container-id-2 div.sk-toggleable__content pre {margin: 0.2em;color: black;border-radius: 0.25em;background-color: #f0f8ff;}#sk-container-id-2 input.sk-toggleable__control:checked~div.sk-toggleable__content {max-height: 200px;max-width: 100%;overflow: auto;}#sk-container-id-2 input.sk-toggleable__control:checked~label.sk-toggleable__label-arrow:before {content: \"▾\";}#sk-container-id-2 div.sk-estimator input.sk-toggleable__control:checked~label.sk-toggleable__label {background-color: #d4ebff;}#sk-container-id-2 div.sk-label input.sk-toggleable__control:checked~label.sk-toggleable__label {background-color: #d4ebff;}#sk-container-id-2 input.sk-hidden--visually {border: 0;clip: rect(1px 1px 1px 1px);clip: rect(1px, 1px, 1px, 1px);height: 1px;margin: -1px;overflow: hidden;padding: 0;position: absolute;width: 1px;}#sk-container-id-2 div.sk-estimator {font-family: monospace;background-color: #f0f8ff;border: 1px dotted black;border-radius: 0.25em;box-sizing: border-box;margin-bottom: 0.5em;}#sk-container-id-2 div.sk-estimator:hover {background-color: #d4ebff;}#sk-container-id-2 div.sk-parallel-item::after {content: \"\";width: 100%;border-bottom: 1px solid gray;flex-grow: 1;}#sk-container-id-2 div.sk-label:hover label.sk-toggleable__label {background-color: #d4ebff;}#sk-container-id-2 div.sk-serial::before {content: \"\";position: absolute;border-left: 1px solid gray;box-sizing: border-box;top: 0;bottom: 0;left: 50%;z-index: 0;}#sk-container-id-2 div.sk-serial {display: flex;flex-direction: column;align-items: center;background-color: white;padding-right: 0.2em;padding-left: 0.2em;position: relative;}#sk-container-id-2 div.sk-item {position: relative;z-index: 1;}#sk-container-id-2 div.sk-parallel {display: flex;align-items: stretch;justify-content: center;background-color: white;position: relative;}#sk-container-id-2 div.sk-item::before, #sk-container-id-2 div.sk-parallel-item::before {content: \"\";position: absolute;border-left: 1px solid gray;box-sizing: border-box;top: 0;bottom: 0;left: 50%;z-index: -1;}#sk-container-id-2 div.sk-parallel-item {display: flex;flex-direction: column;z-index: 1;position: relative;background-color: white;}#sk-container-id-2 div.sk-parallel-item:first-child::after {align-self: flex-end;width: 50%;}#sk-container-id-2 div.sk-parallel-item:last-child::after {align-self: flex-start;width: 50%;}#sk-container-id-2 div.sk-parallel-item:only-child::after {width: 0;}#sk-container-id-2 div.sk-dashed-wrapped {border: 1px dashed gray;margin: 0 0.4em 0.5em 0.4em;box-sizing: border-box;padding-bottom: 0.4em;background-color: white;}#sk-container-id-2 div.sk-label label {font-family: monospace;font-weight: bold;display: inline-block;line-height: 1.2em;}#sk-container-id-2 div.sk-label-container {text-align: center;}#sk-container-id-2 div.sk-container {/* jupyter's `normalize.less` sets `[hidden] { display: none; }` but bootstrap.min.css set `[hidden] { display: none !important; }` so we also need the `!important` here to be able to override the default hidden behavior on the sphinx rendered scikit-learn.org. See: https://github.com/scikit-learn/scikit-learn/issues/21755 */display: inline-block !important;position: relative;}#sk-container-id-2 div.sk-text-repr-fallback {display: none;}</style><div id=\"sk-container-id-2\" class=\"sk-top-container\"><div class=\"sk-text-repr-fallback\"><pre>XGBClassifier(base_score=None, booster=None, callbacks=None,\n",
       "              colsample_bylevel=None, colsample_bynode=None,\n",
       "              colsample_bytree=None, device=&#x27;cuda:1&#x27;,\n",
       "              early_stopping_rounds=None, enable_categorical=False,\n",
       "              eval_metric=None, feature_types=None, gamma=None,\n",
       "              grow_policy=None, importance_type=None,\n",
       "              interaction_constraints=None, learning_rate=1, max_bin=None,\n",
       "              max_cat_threshold=None, max_cat_to_onehot=None,\n",
       "              max_delta_step=None, max_depth=50, max_leaves=None,\n",
       "              min_child_weight=None, missing=nan, monotone_constraints=None,\n",
       "              multi_strategy=None, n_estimators=40, n_jobs=None,\n",
       "              num_parallel_tree=None, objective=&#x27;multi:softprob&#x27;, ...)</pre><b>In a Jupyter environment, please rerun this cell to show the HTML representation or trust the notebook. <br />On GitHub, the HTML representation is unable to render, please try loading this page with nbviewer.org.</b></div><div class=\"sk-container\" hidden><div class=\"sk-item\"><div class=\"sk-estimator sk-toggleable\"><input class=\"sk-toggleable__control sk-hidden--visually\" id=\"sk-estimator-id-2\" type=\"checkbox\" checked><label for=\"sk-estimator-id-2\" class=\"sk-toggleable__label sk-toggleable__label-arrow\">XGBClassifier</label><div class=\"sk-toggleable__content\"><pre>XGBClassifier(base_score=None, booster=None, callbacks=None,\n",
       "              colsample_bylevel=None, colsample_bynode=None,\n",
       "              colsample_bytree=None, device=&#x27;cuda:1&#x27;,\n",
       "              early_stopping_rounds=None, enable_categorical=False,\n",
       "              eval_metric=None, feature_types=None, gamma=None,\n",
       "              grow_policy=None, importance_type=None,\n",
       "              interaction_constraints=None, learning_rate=1, max_bin=None,\n",
       "              max_cat_threshold=None, max_cat_to_onehot=None,\n",
       "              max_delta_step=None, max_depth=50, max_leaves=None,\n",
       "              min_child_weight=None, missing=nan, monotone_constraints=None,\n",
       "              multi_strategy=None, n_estimators=40, n_jobs=None,\n",
       "              num_parallel_tree=None, objective=&#x27;multi:softprob&#x27;, ...)</pre></div></div></div></div></div>"
      ],
      "text/plain": [
       "XGBClassifier(base_score=None, booster=None, callbacks=None,\n",
       "              colsample_bylevel=None, colsample_bynode=None,\n",
       "              colsample_bytree=None, device='cuda:1',\n",
       "              early_stopping_rounds=None, enable_categorical=False,\n",
       "              eval_metric=None, feature_types=None, gamma=None,\n",
       "              grow_policy=None, importance_type=None,\n",
       "              interaction_constraints=None, learning_rate=1, max_bin=None,\n",
       "              max_cat_threshold=None, max_cat_to_onehot=None,\n",
       "              max_delta_step=None, max_depth=50, max_leaves=None,\n",
       "              min_child_weight=None, missing=nan, monotone_constraints=None,\n",
       "              multi_strategy=None, n_estimators=40, n_jobs=None,\n",
       "              num_parallel_tree=None, objective='multi:softprob', ...)"
      ]
     },
     "execution_count": 28,
     "metadata": {},
     "output_type": "execute_result"
    }
   ],
   "source": [
    "from xgboost import XGBClassifier\n",
    "bst = XGBClassifier(n_estimators=40, max_depth=50, learning_rate=1, objective='multi:softprob', device='cuda:1')\n",
    "bst.fit(X=X_filled, y=y)\n",
    "y_test = bst.predict(X_test)"
   ]
  },
  {
   "cell_type": "code",
   "execution_count": 31,
   "id": "069e85ec-e2ce-4604-80d8-cf27e9beaa9c",
   "metadata": {},
   "outputs": [],
   "source": [
    "# Hàm xử lý dữ liệu inference sinh ra submit file\n",
    "mapping_product = {}\n",
    "for idx, product in enumerate(df.columns[-24:]):\n",
    "    mapping_product[idx] = product\n",
    "def get_submit_file(test_result):\n",
    "    test_result = test_result.tolist()\n",
    "    df = pd.DataFrame(zip(test['ncodpers'].tolist(), test_result), columns=['ncodpers', 'added_products'])\n",
    "    df['added_products'] = df['added_products'].apply(lambda x: mapping_product[x])\n",
    "    with open('submission.csv', 'w') as f:\n",
    "        f.write('ncodpers,added_products')\n",
    "        f.write('\\n')\n",
    "        for id in tqdm(range(len(df))):\n",
    "            item = df.loc[id]\n",
    "            f.write(f\"\"\"{item['ncodpers']},{item['added_products']}\"\"\")\n",
    "            f.write('\\n')\n",
    "        f.close()"
   ]
  },
  {
   "cell_type": "code",
   "execution_count": 32,
   "id": "ccf8b0cf-fe1e-44a7-a9b9-affc9b8738fd",
   "metadata": {},
   "outputs": [
    {
     "name": "stderr",
     "output_type": "stream",
     "text": [
      "100%|██████████| 929615/929615 [00:36<00:00, 25183.27it/s]\n"
     ]
    }
   ],
   "source": [
    "get_submit_file(y_test)"
   ]
  },
  {
   "cell_type": "code",
   "execution_count": 57,
   "id": "aa3b80ee-d009-49ba-ba2d-aa41b0d1e0ea",
   "metadata": {},
   "outputs": [
    {
     "name": "stderr",
     "output_type": "stream",
     "text": [
      "/opt/conda/envs/bloom/lib/python3.9/site-packages/sklearn/utils/validation.py:1183: DataConversionWarning: A column-vector y was passed when a 1d array was expected. Please change the shape of y to (n_samples, ), for example using ravel().\n",
      "  y = column_or_1d(y, warn=True)\n",
      "/opt/conda/envs/bloom/lib/python3.9/site-packages/sklearn/linear_model/_logistic.py:460: ConvergenceWarning: lbfgs failed to converge (status=1):\n",
      "STOP: TOTAL NO. of ITERATIONS REACHED LIMIT.\n",
      "\n",
      "Increase the number of iterations (max_iter) or scale the data as shown in:\n",
      "    https://scikit-learn.org/stable/modules/preprocessing.html\n",
      "Please also refer to the documentation for alternative solver options:\n",
      "    https://scikit-learn.org/stable/modules/linear_model.html#logistic-regression\n",
      "  n_iter_i = _check_optimize_result(\n"
     ]
    }
   ],
   "source": [
    "from sklearn.linear_model import LogisticRegression\n",
    "clf = LogisticRegression()\n",
    "clf.fit(X_filled, y)\n",
    "y_test = clf.predict(X_test)\n",
    "get_submit_file(y_test)"
   ]
  }
 ],
 "metadata": {
  "kernelspec": {
   "display_name": "Python 3",
   "language": "python",
   "name": "python3"
  },
  "language_info": {
   "codemirror_mode": {
    "name": "ipython",
    "version": 3
   },
   "file_extension": ".py",
   "mimetype": "text/x-python",
   "name": "python",
   "nbconvert_exporter": "python",
   "pygments_lexer": "ipython3",
   "version": "3.8.10 (default, Jun 22 2022, 20:18:18) \n[GCC 9.4.0]"
  },
  "vscode": {
   "interpreter": {
    "hash": "916dbcbb3f70747c44a77c7bcd40155683ae19c65e1c03b4aa3499c5328201f1"
   }
  },
  "widgets": {
   "application/vnd.jupyter.widget-state+json": {
    "state": {},
    "version_major": 2,
    "version_minor": 0
   }
  }
 },
 "nbformat": 4,
 "nbformat_minor": 5
}
