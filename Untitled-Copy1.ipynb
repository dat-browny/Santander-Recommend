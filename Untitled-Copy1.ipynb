{
 "cells": [
  {
   "cell_type": "code",
   "execution_count": 1,
   "id": "255a5612-6dab-4187-bd9a-0722663f9338",
   "metadata": {},
   "outputs": [],
   "source": [
    "import os\n",
    "import json\n",
    "import numpy\n",
    "import pandas as pd\n",
    "import numpy as np\n",
    "from tqdm import tqdm\n",
    "os.environ['CUDA_VISIBLE_DEVICES'] = '1'"
   ]
  },
  {
   "cell_type": "code",
   "execution_count": 3,
   "id": "435d7787-90ac-4886-bf21-3a8f88eba82c",
   "metadata": {},
   "outputs": [
    {
     "name": "stderr",
     "output_type": "stream",
     "text": [
      "/tmp/ipykernel_657606/1621394854.py:1: DtypeWarning: Columns (5,8,11,15) have mixed types. Specify dtype option on import or set low_memory=False.\n",
      "  df = pd.read_csv('train_ver2.csv')\n"
     ]
    }
   ],
   "source": [
    "df = pd.read_csv('train_ver2.csv')"
   ]
  },
  {
   "cell_type": "code",
   "execution_count": 4,
   "id": "8d996e38-d59d-40ec-a948-81498b1401d6",
   "metadata": {},
   "outputs": [
    {
     "name": "stderr",
     "output_type": "stream",
     "text": [
      "/tmp/ipykernel_657606/3883164566.py:69: FutureWarning: DataFrame.fillna with 'method' is deprecated and will raise in a future version. Use obj.ffill() or obj.bfill() instead.\n",
      "  df.fillna(method='ffill', inplace=True)\n",
      "/tmp/ipykernel_657606/3883164566.py:69: SettingWithCopyWarning: \n",
      "A value is trying to be set on a copy of a slice from a DataFrame\n",
      "\n",
      "See the caveats in the documentation: https://pandas.pydata.org/pandas-docs/stable/user_guide/indexing.html#returning-a-view-versus-a-copy\n",
      "  df.fillna(method='ffill', inplace=True)\n",
      "100%|██████████| 13/13 [00:03<00:00,  4.01it/s]\n",
      "100%|██████████| 630249/630249 [03:57<00:00, 2651.38it/s]\n"
     ]
    }
   ],
   "source": [
    "categorical_col = ['ind_empleado', 'pais_residencia', 'sexo', 'ind_nuevo', 'tiprel_1mes', 'indresi', 'indext', 'conyuemp', 'canal_entrada', 'indfall', 'nomprov', 'ind_actividad_cliente', 'segmento']\n",
    "interval_col = ['antiguedad', 'age', 'renta']\n",
    "label_col = df.columns[-24:]\n",
    "\n",
    "list_encoded = {}\n",
    "for col in categorical_col:\n",
    "    mapping_value = {}\n",
    "    categorical = list(df[col].unique())\n",
    "    for id, cate in enumerate(categorical):\n",
    "        mapping_value[cate] = id+1\n",
    "    list_encoded[col] = mapping_value\n",
    "    \n",
    "def transform_age(age):\n",
    "    if isinstance(age, str):\n",
    "        return 0\n",
    "    if age < 20:\n",
    "        return 1\n",
    "    elif age < 30:\n",
    "        return 2\n",
    "    elif age < 40:\n",
    "        return 3\n",
    "    elif age < 50:\n",
    "        return 4\n",
    "    elif age < 60:\n",
    "        return 5\n",
    "    else:\n",
    "        return 6\n",
    "\n",
    "\n",
    "def transform_categorical(dict_, x):\n",
    "    if x not in dict_.keys():\n",
    "        return 0\n",
    "    return dict_[x]\n",
    "\n",
    "def transform_membership(month):\n",
    "    if isinstance(month, str):\n",
    "        return 0\n",
    "    if month < 24:\n",
    "        return 1\n",
    "    elif month < 60:\n",
    "        return 2\n",
    "    elif month < 120:\n",
    "        return 3\n",
    "    else: \n",
    "        return 4\n",
    "\n",
    "def transform_income(income):\n",
    "    if isinstance(income, str):\n",
    "        return 0\n",
    "    if income < 5e4:\n",
    "        return 1\n",
    "    elif income < 1e5:\n",
    "        return 2\n",
    "    elif income < 5e5:\n",
    "        return 3\n",
    "    else:\n",
    "        return 4\n",
    "\n",
    "def transform_value(df):\n",
    "    for col in tqdm(categorical_col):\n",
    "        df[col] = df[col].apply(lambda x: transform_categorical(list_encoded[col], x))\n",
    "    df['age'] = df['age'].apply(lambda x: transform_age(x))\n",
    "    df['antiguedad'] = df['antiguedad'].apply(lambda x: transform_membership(x))\n",
    "    df['renta'] = df['renta'].apply(lambda x: transform_income(x)) \n",
    "    return df\n",
    "\n",
    "def extract_information(df):\n",
    "    df = df[df['fecha_dato'] == '2015-06-28']\n",
    "    df.fillna(method='ffill', inplace=True)\n",
    "    df = df[df['age']!=' NA']\n",
    "    df['antiguedad'] = df['antiguedad'].apply(lambda x: pd.to_numeric(str(x).replace('[^\\d.-]', ''), errors='coerce'))\n",
    "    df = transform_value(df)\n",
    "    \n",
    "    personal_information_encoded = {}\n",
    "    label_per_user = {}\n",
    "    for i, rcd in tqdm(df.iterrows(), total=len(df)):\n",
    "        user_id = rcd['ncodpers']\n",
    "        user_label = rcd[label_col].tolist()\n",
    "        user_information = rcd[categorical_col + interval_col].tolist()\n",
    "        personal_information_encoded[user_id] = user_information\n",
    "        label_per_user[user_id] = user_label\n",
    "    return personal_information_encoded, label_per_user\n",
    "personal_in4, label = extract_information(df)"
   ]
  },
  {
   "cell_type": "code",
   "execution_count": 5,
   "id": "4b1431a6-0e5d-4733-8a04-2c267a7b213b",
   "metadata": {},
   "outputs": [
    {
     "name": "stderr",
     "output_type": "stream",
     "text": [
      "100%|██████████| 3729570/3729570 [13:34<00:00, 4576.74it/s]\n"
     ]
    }
   ],
   "source": [
    "user_id = list(personal_in4.keys())\n",
    "\n",
    "def get_history_purchase(df):\n",
    "    item = df.columns[-24:]\n",
    "    purchase_history = df[(df['fecha_dato'] <= '2015-06-28') & df['ncodpers'].isin(user_id)][item.tolist() + ['ncodpers']]\n",
    "    purchase_history.fillna(0, inplace=True)\n",
    "    purchase_history[item] = purchase_history[item].astype('int8')\n",
    "    \n",
    "    item_buy_per_user = {}\n",
    "    for i, rcd in tqdm(purchase_history.iterrows(), total=len(purchase_history)):\n",
    "        ncodpers = rcd['ncodpers']\n",
    "        items_bought = np.where(rcd[item] == 1)[0].tolist()\n",
    "        \n",
    "        if ncodpers not in item_buy_per_user:\n",
    "            item_buy_per_user[ncodpers] = []\n",
    "        \n",
    "        item_buy_per_user[ncodpers].extend(items_bought)\n",
    "    return item_buy_per_user\n",
    "\n",
    "item_last_buy = get_history_purchase(df) "
   ]
  },
  {
   "cell_type": "code",
   "execution_count": 6,
   "id": "1da61a17-fd04-41bb-b051-1cd25fe4dcf7",
   "metadata": {},
   "outputs": [
    {
     "name": "stderr",
     "output_type": "stream",
     "text": [
      "100%|██████████| 630249/630249 [00:01<00:00, 350695.48it/s]\n"
     ]
    }
   ],
   "source": [
    "def get_trainset(user_feature, item_bought, label):\n",
    "    X_train = []\n",
    "    y_train = []\n",
    "    for user_id in tqdm(user_feature.keys()):\n",
    "        list_bought = item_bought[user_id]\n",
    "        list_bought = [i+1 for i in list_bought]\n",
    "        list_bought = list_bought[-20:] if len(list_bought) >= 20 else [0]*(20 - len(list_bought)) + list_bought\n",
    "        X_train.append(user_feature[user_id] + list_bought)\n",
    "        y_train.append(label[user_id])\n",
    "    #X_trainset = [[personal_in4, item_last_buy]*n_user]\n",
    "    return X_train, y_train\n",
    "X, y = get_trainset(personal_in4, item_last_buy, label)"
   ]
  },
  {
   "cell_type": "code",
   "execution_count": 11,
   "id": "7c683b8a-c528-46fc-8269-2137ea195c6e",
   "metadata": {},
   "outputs": [],
   "source": [
    "df = df[df['fecha_dato'] == '2015-06-28']\n",
    "df = df[df.columns[-24:]]"
   ]
  },
  {
   "cell_type": "code",
   "execution_count": 20,
   "id": "ad0f247a-d6f0-4f7d-b054-ac59342a55eb",
   "metadata": {},
   "outputs": [
    {
     "name": "stdout",
     "output_type": "stream",
     "text": [
      "83.0\n",
      "21.0\n",
      "494007.0\n",
      "316.0\n",
      "59842.0\n",
      "7595.0\n",
      "6920.0\n",
      "104600.0\n",
      "35342.0\n",
      "1803.0\n",
      "1444.0\n",
      "35083.0\n",
      "64095.0\n",
      "15040.0\n",
      "4721.0\n",
      "7355.0\n",
      "2040.0\n",
      "41187.0\n",
      "36549.0\n",
      "19675.0\n",
      "3138.0\n",
      "43524.0\n",
      "47703.0\n",
      "98651.0\n"
     ]
    }
   ],
   "source": [
    "for i in range(24):\n",
    "    print(y[:, i].sum())"
   ]
  },
  {
   "cell_type": "code",
   "execution_count": 19,
   "id": "befab81d-7bab-42b0-8cd1-c9ca7bf361df",
   "metadata": {},
   "outputs": [],
   "source": [
    "y = np.array(y)"
   ]
  },
  {
   "cell_type": "code",
   "execution_count": null,
   "id": "28e8031d-71ad-4a08-b823-90b2b2077891",
   "metadata": {},
   "outputs": [],
   "source": []
  }
 ],
 "metadata": {
  "kernelspec": {
   "display_name": "llm",
   "language": "python",
   "name": "llm"
  },
  "language_info": {
   "codemirror_mode": {
    "name": "ipython",
    "version": 3
   },
   "file_extension": ".py",
   "mimetype": "text/x-python",
   "name": "python",
   "nbconvert_exporter": "python",
   "pygments_lexer": "ipython3",
   "version": "3.9.18"
  }
 },
 "nbformat": 4,
 "nbformat_minor": 5
}
